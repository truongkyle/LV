{
 "cells": [
  {
   "cell_type": "code",
   "execution_count": 1,
   "id": "b356840b",
   "metadata": {},
   "outputs": [],
   "source": [
    "my_file = open(\"list_image_id.txt\", \"r\")\n",
    "content = my_file.read()\n",
    "content = content.replace(\"'\",\"\")"
   ]
  },
  {
   "cell_type": "code",
   "execution_count": 2,
   "id": "2e0c7024",
   "metadata": {},
   "outputs": [],
   "source": [
    "list_id = content.split(', ')"
   ]
  },
  {
   "cell_type": "code",
   "execution_count": 3,
   "id": "2457f49c",
   "metadata": {},
   "outputs": [],
   "source": [
    "list_id = list(map(int, list_id))"
   ]
  },
  {
   "cell_type": "code",
   "execution_count": 4,
   "id": "ecbf82ed",
   "metadata": {},
   "outputs": [],
   "source": [
    "import base64\n",
    "import requests\n",
    "\n",
    "\n",
    "def get_as_base64(url):\n",
    "\n",
    "    return base64.b64encode(requests.get(url).content).decode('utf-8')\n"
   ]
  },
  {
   "cell_type": "code",
   "execution_count": 7,
   "id": "31cde876",
   "metadata": {},
   "outputs": [],
   "source": [
    "import json\n",
    "def writing_json_file(dict_content, path_file):\n",
    "    json_object = json.dumps(dict_content, indent = 1)\n",
    "\n",
    "    # Writing to sample.json\n",
    "    with open(path_file, \"w\") as outfile:\n",
    "        outfile.write(json_object)"
   ]
  },
  {
   "cell_type": "code",
   "execution_count": 9,
   "id": "09e13725",
   "metadata": {},
   "outputs": [],
   "source": [
    "import os\n",
    "try: \n",
    "    os.mkdir(\"./JsonData/\") \n",
    "except OSError as error: \n",
    "    pass\n",
    "    \n",
    "for id_item in list_id:\n",
    "    URL = 'https://resourcespace.yelsterdigital.com/pages/download.php?ref={}&size=&ext=jpg&k=&alternative=-1&usage=-1&usagecomment='.format(id_item)\n",
    "    path_file = f\"./JsonData/{id_item}.json\"\n",
    "    dict_content = {\n",
    "        \"uri\": \"data:image/jpeg;base64,{}\".format(get_as_base64(URL))\n",
    "    }\n",
    "    writing_json_file(dict_content, path_file)"
   ]
  },
  {
   "cell_type": "code",
   "execution_count": null,
   "id": "be098b7f",
   "metadata": {},
   "outputs": [],
   "source": []
  }
 ],
 "metadata": {
  "kernelspec": {
   "display_name": "Python 3",
   "language": "python",
   "name": "python3"
  },
  "language_info": {
   "codemirror_mode": {
    "name": "ipython",
    "version": 3
   },
   "file_extension": ".py",
   "mimetype": "text/x-python",
   "name": "python",
   "nbconvert_exporter": "python",
   "pygments_lexer": "ipython3",
   "version": "3.8.8"
  }
 },
 "nbformat": 4,
 "nbformat_minor": 5
}
